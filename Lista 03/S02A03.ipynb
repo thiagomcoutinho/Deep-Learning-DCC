{
 "cells": [
  {
   "cell_type": "code",
   "execution_count": 1,
   "metadata": {},
   "outputs": [],
   "source": [
    "import numpy as np\n",
    "import matplotlib.pyplot as plt\n",
    "from mpl_toolkits.mplot3d import Axes3D\n",
    "import pandas as pd"
   ]
  },
  {
   "cell_type": "markdown",
   "metadata": {},
   "source": [
    "## Ler breast cancer dataset\n",
    "\n",
    "Esse dataset contém dados de pacientes com tumores de mama, você tentará prever se um tumor é maligno ou benigno de acordo com a espessura do tumor. No gráfico abaixo você pode visualizar os tipos de tumores (1 = maligno, 0 = benigno) por categoria de espessura."
   ]
  },
  {
   "cell_type": "code",
   "execution_count": 2,
   "metadata": {},
   "outputs": [
    {
     "data": {
      "image/png": "[encoded data removed]",
      "text/plain": [
       "<matplotlib.figure.Figure at 0x7f355c888080>"
      ]
     },
     "metadata": {},
     "output_type": "display_data"
    }
   ],
   "source": [
    "x = pd.read_csv(\"https://archive.ics.uci.edu/ml/machine-learning-databases/breast-cancer-wisconsin/breast-cancer-wisconsin.data\",\n",
    "                header=None)\n",
    "\n",
    "y = np.array(x[10])\n",
    "y[y==2] = 0\n",
    "y[y==4] = 1\n",
    "x = np.array(x[1])\n",
    "\n",
    "plt.plot(x,y,'ro', alpha = 0.03)\n",
    "plt.show()"
   ]
  },
  {
   "cell_type": "markdown",
   "metadata": {},
   "source": [
    "### Código para o gradient descent\n",
    "\n",
    "Conforme implementado na Semana 1, o código abaixo é responsável por definir as funções do gradient descent."
   ]
  },
  {
   "cell_type": "code",
   "execution_count": null,
   "metadata": {},
   "outputs": [],
   "source": [
    "def logverossimil(x, y, w, b):\n",
    "    return (b * np.sum(y)) + (w * np.sum(x * y)) - (np.sum(np.log(1 + np.exp(b + w *x))))\n",
    "\n",
    "\n",
    "def plot_logverossimil(wmin,wmax,bmin,bmax, history = None, x=x, y=y):\n",
    "    wrange = np.arange(wmin,wmax,0.1)\n",
    "    brange = np.arange(bmin,bmax,0.1)\n",
    "    v = []\n",
    "    for w in wrange:\n",
    "        vaux = []\n",
    "        for b in brange:\n",
    "            vaux.append(logverossimil(x,y,w,b))\n",
    "        v.append(np.array(vaux))\n",
    "    v = np.array(v)\n",
    "\n",
    "    fig, ax = plt.subplots()\n",
    "    CS = ax.contour(brange, wrange, v)\n",
    "    plt.xlabel(\"b\", fontsize = 16)\n",
    "    plt.ylabel(\"w\", fontsize = 16)\n",
    "    ax.clabel(CS, inline=1, fontsize=11, fmt='%1.f')\n",
    "    if not(history is None):\n",
    "        plt.plot(history[:,0],history[:,1],color='k',linestyle='-', linewidth=0.5, marker='o',alpha=0.5,markersize=4)\n",
    "    plt.title (\"Log-verossimilhança por W e b\")\n",
    "    plt.show()\n",
    "\n",
    "def derivatives(x,y,w,b):\n",
    "    derivs = np.zeros(2)\n",
    "    derivs[0] = np.sum(y-1/(1+np.exp(-(w*x+b))))\n",
    "    derivs[1] = np.sum(x*(y-1/(1+np.exp(-(w*x+b)))))\n",
    "    return derivs\n",
    "\n",
    "def gradient_descent(x, y, b_init, w_init, learning_rate):\n",
    "    params = np.array([b_init, w_init]) \n",
    "    past_params = np.array([10,10])\n",
    "\n",
    "    history = [params] #armazene o histórico de valores nesse vetor\n",
    "    iters = 0\n",
    "    diff = np.array([10,10]) #para ser usado na condição de parada\n",
    "\n",
    "    while iters < 3000 and np.max(diff) > 1e-5: #condição de parada do algoritmo (n de iterações e convergência)\n",
    "        b, w = params[0], params[1]\n",
    "        past_params = params\n",
    "        params = params + learning_rate*derivatives(x,y,w,b)\n",
    "        diff = abs(params - past_params)\n",
    "        history.append(params)\n",
    "        iters += 1\n",
    "\n",
    "    history = np.array(history)\n",
    "    return history\n"
   ]
  },
  {
   "cell_type": "markdown",
   "metadata": {},
   "source": [
    "## Exercício 01:"
   ]
  },
  {
   "cell_type": "markdown",
   "metadata": {},
   "source": [
    "### Normalização\n",
    "No código abaixo iremos visualizar o efeito da normalização dos inputs no gradient descent. Execute o algoritmo nos dados não normalizados, depois normalize os dados e execute-o novamente. Imprima o número de iterações necessários para a convergência das duas execuções.\n"
   ]
  },
  {
   "cell_type": "code",
   "execution_count": null,
   "metadata": {},
   "outputs": [],
   "source": [
    "history = #execute o gradient descent com os dados não normalizados\n",
    "plot_logverossimil(np.min(history[:,1]),np.max(history[:,1]),np.min(history[:,0]),np.max(history[:,0]), history)\n",
    "\n",
    "x_norm = #normalize os dados\n",
    "\n",
    "history_norm = #execute o gradient descent com os dados normalizados\n",
    "plot_logverossimil(np.min(history_norm[:,1]),np.max(history_norm[:,1]),np.min(history_norm[:,0]),np.max(history_norm[:,0]), history_norm)\n",
    "\n",
    "#imprima o número de iterações das duas execuções"
   ]
  },
  {
   "cell_type": "markdown",
   "metadata": {},
   "source": [
    "## Exercício 02:\n",
    "Implemente a função do gradient descent com momentum."
   ]
  },
  {
   "cell_type": "markdown",
   "metadata": {},
   "source": [
    "### Gradiente com momentum"
   ]
  },
  {
   "cell_type": "code",
   "execution_count": null,
   "metadata": {},
   "outputs": [],
   "source": [
    "def gradient_descent_momentum(x, y, b_init, w_init, learning_rate, beta):\n",
    "    #Implemente aqui a função do gradient com momentum"
   ]
  },
  {
   "cell_type": "code",
   "execution_count": null,
   "metadata": {},
   "outputs": [],
   "source": [
    "history = gradient_descent(x,y, 0,0, 0.001)\n",
    "plot_logverossimil(np.min(history[:,1]),np.max(history[:,1]),np.min(history[:,0]),np.max(history[:,0]), history)\n",
    "\n",
    "history_momentum = gradient_descent_momentum(x,y,0,0, 0.005, 0.9)\n",
    "plot_logverossimil(np.min(history_momentum[:,1]),np.max(history_momentum[:,1]),np.min(history_momentum[:,0]),np.max(history_momentum[:,0]), history_momentum, x=x)\n",
    "\n",
    "print(\"num iterations gd:\", len(history))\n",
    "print(\"num iterations gd w/ momentum:\", len(history_momentum))"
   ]
  },
  {
   "cell_type": "markdown",
   "metadata": {},
   "source": [
    "## Exercício 03:\n",
    "Implemente a função do gradient descent RMSprop."
   ]
  },
  {
   "cell_type": "markdown",
   "metadata": {},
   "source": [
    "### RMSprop"
   ]
  },
  {
   "cell_type": "code",
   "execution_count": null,
   "metadata": {},
   "outputs": [],
   "source": [
    "def gradient_descent_rmsprop(x, y, b_init, w_init, learning_rate, beta):\n",
    "    #Implemente aqui a função do RMSprop"
   ]
  },
  {
   "cell_type": "code",
   "execution_count": null,
   "metadata": {},
   "outputs": [],
   "source": [
    "history_rmsprop = gradient_descent_rmsprop(x,y,0,0, 0.01, 0.999)\n",
    "plot_logverossimil(np.min(history_rmsprop[:,1]),np.max(history_rmsprop[:,1]),np.min(history_rmsprop[:,0]),np.max(history_momentum[:,0]), history_rmsprop, x=x)\n",
    "\n",
    "print(\"num iterations gd w/ rmsprop:\", len(history_rmsprop))"
   ]
  },
  {
   "cell_type": "markdown",
   "metadata": {},
   "source": [
    "## Exercício 04:\n",
    "Implemente a função do gradient descent Adam."
   ]
  },
  {
   "cell_type": "markdown",
   "metadata": {},
   "source": [
    "### Adam"
   ]
  },
  {
   "cell_type": "code",
   "execution_count": null,
   "metadata": {},
   "outputs": [],
   "source": [
    "def gradient_descent_adam(x, y, b_init, w_init, learning_rate, beta1, beta2):\n",
    "    #Implemente aqui a função do Adam"
   ]
  },
  {
   "cell_type": "code",
   "execution_count": null,
   "metadata": {},
   "outputs": [],
   "source": [
    "history_adam = gradient_descent_adam(x,y,0,0, 0.05, 0.9, 0.999)\n",
    "plot_logverossimil(np.min(history_adam[:,1]),np.max(history_adam[:,1]),np.min(history_adam[:,0]),np.max(history_adam[:,0]), history_adam, x=x)\n",
    "\n",
    "print(\"num iterations gd w/ adam:\", len(history_adam))"
   ]
  }
 ],
 "metadata": {
  "kernelspec": {
   "display_name": "Python 3",
   "language": "python",
   "name": "python3"
  },
  "language_info": {
   "codemirror_mode": {
    "name": "ipython",
    "version": 3
   },
   "file_extension": ".py",
   "mimetype": "text/x-python",
   "name": "python",
   "nbconvert_exporter": "python",
   "pygments_lexer": "ipython3",
   "version": "3.6.5"
  }
 },
 "nbformat": 4,
 "nbformat_minor": 2
}